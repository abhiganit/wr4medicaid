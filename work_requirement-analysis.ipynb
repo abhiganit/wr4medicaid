{
 "cells": [
  {
   "cell_type": "code",
   "execution_count": 2,
   "id": "initial_id",
   "metadata": {
    "ExecuteTime": {
     "end_time": "2025-02-26T17:05:55.309080Z",
     "start_time": "2025-02-26T17:05:54.222880Z"
    }
   },
   "outputs": [],
   "source": [
    "import numpy as np\n",
    "import pandas as pd\n",
    "from matplotlib import pyplot as plt\n",
    "import scipy.stats as stats"
   ]
  },
  {
   "cell_type": "code",
   "execution_count": 3,
   "id": "27bc4c1ec1036a10",
   "metadata": {
    "ExecuteTime": {
     "end_time": "2025-02-19T15:18:18.497446Z",
     "start_time": "2025-02-19T15:18:18.495216Z"
    }
   },
   "outputs": [],
   "source": [
    "from numpy.random import RandomState"
   ]
  },
  {
   "cell_type": "markdown",
   "id": "b85e2ff5-2478-4070-af91-ae204976a8df",
   "metadata": {},
   "source": [
    "## Additional mortality calculation:\n",
    "$$D_u = s_f D_c$$\n",
    "\n",
    "where $D_c$ is the current number of annual deaths in the impacted population $P$ and $D_u$ is the number of annual deaths expected after the policy change. \n",
    "\n",
    "The scaling factor $s_f$ is calculated based on the change in proportion of the impacted population who are insured (proportion of currently insured $p^c_i$ to proportion inusred $p^u_i$ after policy change) and is given by\n",
    "\n",
    "$$s_f = \\frac{p^u_i + \\lambda (1-p^u_i)}{p^c_i + \\lambda (1-p^c_i)}$$\n",
    "\n",
    "where $\\lambda$ is hazard ratio of death for those uninsured compared with those insured.\n",
    "\n",
    "Additional mortality is then givne by $$D_u - D_c$$.\n",
    "\n",
    "## Work requirement\n",
    "+ Impacted population $P$ are individuals in age-group 19-64. We use data from [National Population Projection Datasets](https://www.census.gov/data/datasets/2023/demo/popproj/2023-popproj.html) to inform it. **Updated data**.\n",
    "+ We caculate $D_c$ based on death rate $d_r$ for the impacted population $P$ using [NCHS Data Brief 2024](https://www.cdc.gov/nchs/products/databriefs/db492.htm) which provides latest estimates(2022). So, $$D_c = d_r P $$. **Updated data**.\n",
    "+ We inform the proportion of individuals with insurance $p^c_i$ in the impacted population $P$ using [2023 American Community Survey Data](https://data.census.gov/table/ACSST5Y2023.S2701?q=health%20insurance) from United States Census Bureau. **Updated data**.\n",
    "+ To inofrm, $p^u_i$ the updated proportion of insured impacted population we use [this report](https://www.cbpp.org/research/health/medicaid-work-requirements-could-put-36-million-people-at-risk-of-losing-health) from Center for Budget and Policies Priorities. **New data**.\n",
    "+ Hazard ratio ($\\lambda$) is informed from [Wilper et. al. 2003, Am J Public Health](https://www.ncbi.nlm.nih.gov/pmc/articles/PMC2775760/).\n",
    "\n",
    "\n",
    "## Questions?\n",
    "+ Do I have enough data to do it at state-level.\n",
    "+ How does our past analysis relate to this\n",
    " \n"
   ]
  },
  {
   "cell_type": "markdown",
   "id": "2e0ab784-8685-42da-8f34-41d7f7790901",
   "metadata": {},
   "source": [
    "## Data"
   ]
  },
  {
   "cell_type": "code",
   "execution_count": 4,
   "id": "41fd473c-936b-4b11-9399-31600d96c2f7",
   "metadata": {},
   "outputs": [],
   "source": [
    "# read population data (https://www.census.gov/data/datasets/2023/demo/popproj/2023-popproj.html)\n",
    "pop_ = pd.read_csv('data/np2023.csv') # population projection data  from US Census Bureau\n",
    "# NOTE 1: this doesn't have state-level data\n",
    "# Note 2: there is an update estimate for projection data."
   ]
  },
  {
   "cell_type": "code",
   "execution_count": 5,
   "id": "431f7a89-b862-4ab4-84e2-d902de98971e",
   "metadata": {},
   "outputs": [
    {
     "data": {
      "text/html": [
       "<div>\n",
       "<style scoped>\n",
       "    .dataframe tbody tr th:only-of-type {\n",
       "        vertical-align: middle;\n",
       "    }\n",
       "\n",
       "    .dataframe tbody tr th {\n",
       "        vertical-align: top;\n",
       "    }\n",
       "\n",
       "    .dataframe thead tr th {\n",
       "        text-align: left;\n",
       "    }\n",
       "</style>\n",
       "<table border=\"1\" class=\"dataframe\">\n",
       "  <thead>\n",
       "    <tr>\n",
       "      <th></th>\n",
       "      <th colspan=\"4\" halign=\"left\">United States</th>\n",
       "    </tr>\n",
       "    <tr>\n",
       "      <th></th>\n",
       "      <th colspan=\"2\" halign=\"left\">Total</th>\n",
       "      <th colspan=\"2\" halign=\"left\">Insured</th>\n",
       "    </tr>\n",
       "    <tr>\n",
       "      <th>Label</th>\n",
       "      <th>Estimate</th>\n",
       "      <th>Margin of Error</th>\n",
       "      <th>Estimate</th>\n",
       "      <th>Margin of Error</th>\n",
       "    </tr>\n",
       "  </thead>\n",
       "  <tbody>\n",
       "    <tr>\n",
       "      <th>Civilian noninstitutionalized population</th>\n",
       "      <td>327,425,278</td>\n",
       "      <td>±8,784</td>\n",
       "      <td>299,424,402</td>\n",
       "      <td>±245,709</td>\n",
       "    </tr>\n",
       "    <tr>\n",
       "      <th>AGE</th>\n",
       "      <td>NaN</td>\n",
       "      <td>NaN</td>\n",
       "      <td>NaN</td>\n",
       "      <td>NaN</td>\n",
       "    </tr>\n",
       "    <tr>\n",
       "      <th>Under 6 years</th>\n",
       "      <td>22,860,400</td>\n",
       "      <td>±16,848</td>\n",
       "      <td>21,837,881</td>\n",
       "      <td>±21,655</td>\n",
       "    </tr>\n",
       "    <tr>\n",
       "      <th>6 to 18 years</th>\n",
       "      <td>55,187,398</td>\n",
       "      <td>±22,833</td>\n",
       "      <td>52,000,934</td>\n",
       "      <td>±33,152</td>\n",
       "    </tr>\n",
       "    <tr>\n",
       "      <th>19 to 25 years</th>\n",
       "      <td>29,463,133</td>\n",
       "      <td>±25,847</td>\n",
       "      <td>25,345,552</td>\n",
       "      <td>±29,354</td>\n",
       "    </tr>\n",
       "    <tr>\n",
       "      <th>...</th>\n",
       "      <td>...</td>\n",
       "      <td>...</td>\n",
       "      <td>...</td>\n",
       "      <td>...</td>\n",
       "    </tr>\n",
       "    <tr>\n",
       "      <th>Civilian noninstitutionalized population for whom poverty status is determined</th>\n",
       "      <td>323,581,141</td>\n",
       "      <td>±18,635</td>\n",
       "      <td>295,817,469</td>\n",
       "      <td>±253,096</td>\n",
       "    </tr>\n",
       "    <tr>\n",
       "      <th>Below 138 percent of the poverty threshold</th>\n",
       "      <td>59,207,745</td>\n",
       "      <td>±374,885</td>\n",
       "      <td>50,532,252</td>\n",
       "      <td>±289,421</td>\n",
       "    </tr>\n",
       "    <tr>\n",
       "      <th>138 to 399 percent of the poverty threshold</th>\n",
       "      <td>128,737,340</td>\n",
       "      <td>±210,228</td>\n",
       "      <td>114,783,228</td>\n",
       "      <td>±139,284</td>\n",
       "    </tr>\n",
       "    <tr>\n",
       "      <th>At or above 400 percent of the poverty threshold</th>\n",
       "      <td>135,636,056</td>\n",
       "      <td>±548,028</td>\n",
       "      <td>130,501,989</td>\n",
       "      <td>±585,728</td>\n",
       "    </tr>\n",
       "    <tr>\n",
       "      <th>Below 100 percent of the poverty threshold</th>\n",
       "      <td>40,364,323</td>\n",
       "      <td>±273,055</td>\n",
       "      <td>34,365,013</td>\n",
       "      <td>±217,588</td>\n",
       "    </tr>\n",
       "  </tbody>\n",
       "</table>\n",
       "<p>72 rows × 4 columns</p>\n",
       "</div>"
      ],
      "text/plain": [
       "                                                   United States  \\\n",
       "                                                           Total   \n",
       "Label                                                   Estimate   \n",
       "Civilian noninstitutionalized population             327,425,278   \n",
       "AGE                                                          NaN   \n",
       "Under 6 years                                         22,860,400   \n",
       "6 to 18 years                                         55,187,398   \n",
       "19 to 25 years                                        29,463,133   \n",
       "...                                                          ...   \n",
       "Civilian noninstitutionalized population for wh...   323,581,141   \n",
       "Below 138 percent of the poverty threshold            59,207,745   \n",
       "138 to 399 percent of the poverty threshold          128,737,340   \n",
       "At or above 400 percent of the poverty threshold     135,636,056   \n",
       "Below 100 percent of the poverty threshold            40,364,323   \n",
       "\n",
       "                                                                    \\\n",
       "                                                                     \n",
       "Label                                              Margin of Error   \n",
       "Civilian noninstitutionalized population                    ±8,784   \n",
       "AGE                                                            NaN   \n",
       "Under 6 years                                              ±16,848   \n",
       "6 to 18 years                                              ±22,833   \n",
       "19 to 25 years                                             ±25,847   \n",
       "...                                                            ...   \n",
       "Civilian noninstitutionalized population for wh...         ±18,635   \n",
       "Below 138 percent of the poverty threshold                ±374,885   \n",
       "138 to 399 percent of the poverty threshold               ±210,228   \n",
       "At or above 400 percent of the poverty threshold          ±548,028   \n",
       "Below 100 percent of the poverty threshold                ±273,055   \n",
       "\n",
       "                                                                 \\\n",
       "                                                        Insured   \n",
       "Label                                                  Estimate   \n",
       "Civilian noninstitutionalized population            299,424,402   \n",
       "AGE                                                         NaN   \n",
       "Under 6 years                                        21,837,881   \n",
       "6 to 18 years                                        52,000,934   \n",
       "19 to 25 years                                       25,345,552   \n",
       "...                                                         ...   \n",
       "Civilian noninstitutionalized population for wh...  295,817,469   \n",
       "Below 138 percent of the poverty threshold           50,532,252   \n",
       "138 to 399 percent of the poverty threshold         114,783,228   \n",
       "At or above 400 percent of the poverty threshold    130,501,989   \n",
       "Below 100 percent of the poverty threshold           34,365,013   \n",
       "\n",
       "                                                                    \n",
       "                                                                    \n",
       "Label                                              Margin of Error  \n",
       "Civilian noninstitutionalized population                  ±245,709  \n",
       "AGE                                                            NaN  \n",
       "Under 6 years                                              ±21,655  \n",
       "6 to 18 years                                              ±33,152  \n",
       "19 to 25 years                                             ±29,354  \n",
       "...                                                            ...  \n",
       "Civilian noninstitutionalized population for wh...        ±253,096  \n",
       "Below 138 percent of the poverty threshold                ±289,421  \n",
       "138 to 399 percent of the poverty threshold               ±139,284  \n",
       "At or above 400 percent of the poverty threshold          ±585,728  \n",
       "Below 100 percent of the poverty threshold                ±217,588  \n",
       "\n",
       "[72 rows x 4 columns]"
      ]
     },
     "execution_count": 5,
     "metadata": {},
     "output_type": "execute_result"
    }
   ],
   "source": [
    "# read insurance data from US Census Bureau (https://data.census.gov/table/ACSST5Y2023.S2701?q=health%20insurance) \n",
    "# 2023: ACS 5-year estimates subject table\n",
    "ins_ = pd.read_excel('data/ACS ST 5Y 2023 Data.xlsx',sheet_name='Data',header=[0,1,2],index_col=0)\n",
    "ins_"
   ]
  },
  {
   "cell_type": "markdown",
   "id": "6185044d-270c-4102-ac80-689d05eff9af",
   "metadata": {},
   "source": [
    "#### updated insurance rates:\n",
    "For this we use data reported in https://www.cbpp.org/research/health/medicaid-work-requirements-could-put-36-million-people-at-risk-of-losing-health"
   ]
  },
  {
   "cell_type": "code",
   "execution_count": 6,
   "id": "51f4d6b2-8392-40c2-803f-58b421b9f3f1",
   "metadata": {},
   "outputs": [
    {
     "data": {
      "text/html": [
       "<div>\n",
       "<style scoped>\n",
       "    .dataframe tbody tr th:only-of-type {\n",
       "        vertical-align: middle;\n",
       "    }\n",
       "\n",
       "    .dataframe tbody tr th {\n",
       "        vertical-align: top;\n",
       "    }\n",
       "\n",
       "    .dataframe thead th {\n",
       "        text-align: right;\n",
       "    }\n",
       "</style>\n",
       "<table border=\"1\" class=\"dataframe\">\n",
       "  <thead>\n",
       "    <tr style=\"text-align: right;\">\n",
       "      <th></th>\n",
       "      <th>Age_Group_Years</th>\n",
       "      <th>2021_Number</th>\n",
       "      <th>2021_Rate_per_100000</th>\n",
       "      <th>2022_Number</th>\n",
       "      <th>2022_Rate_per_100000</th>\n",
       "    </tr>\n",
       "  </thead>\n",
       "  <tbody>\n",
       "    <tr>\n",
       "      <th>0</th>\n",
       "      <td>1-4</td>\n",
       "      <td>3816</td>\n",
       "      <td>25.0</td>\n",
       "      <td>4156</td>\n",
       "      <td>28.0</td>\n",
       "    </tr>\n",
       "    <tr>\n",
       "      <th>1</th>\n",
       "      <td>5-14</td>\n",
       "      <td>5975</td>\n",
       "      <td>14.3</td>\n",
       "      <td>6239</td>\n",
       "      <td>15.3</td>\n",
       "    </tr>\n",
       "    <tr>\n",
       "      <th>2</th>\n",
       "      <td>15-24</td>\n",
       "      <td>38307</td>\n",
       "      <td>88.9</td>\n",
       "      <td>35232</td>\n",
       "      <td>79.5</td>\n",
       "    </tr>\n",
       "    <tr>\n",
       "      <th>3</th>\n",
       "      <td>25-34</td>\n",
       "      <td>82274</td>\n",
       "      <td>180.8</td>\n",
       "      <td>74369</td>\n",
       "      <td>163.4</td>\n",
       "    </tr>\n",
       "    <tr>\n",
       "      <th>4</th>\n",
       "      <td>35-44</td>\n",
       "      <td>124939</td>\n",
       "      <td>287.9</td>\n",
       "      <td>111605</td>\n",
       "      <td>255.4</td>\n",
       "    </tr>\n",
       "    <tr>\n",
       "      <th>5</th>\n",
       "      <td>45-54</td>\n",
       "      <td>216037</td>\n",
       "      <td>531.0</td>\n",
       "      <td>183284</td>\n",
       "      <td>453.3</td>\n",
       "    </tr>\n",
       "    <tr>\n",
       "      <th>6</th>\n",
       "      <td>55-64</td>\n",
       "      <td>478171</td>\n",
       "      <td>1117.1</td>\n",
       "      <td>417541</td>\n",
       "      <td>992.1</td>\n",
       "    </tr>\n",
       "    <tr>\n",
       "      <th>7</th>\n",
       "      <td>65-74</td>\n",
       "      <td>724266</td>\n",
       "      <td>2151.3</td>\n",
       "      <td>668581</td>\n",
       "      <td>1978.7</td>\n",
       "    </tr>\n",
       "    <tr>\n",
       "      <th>8</th>\n",
       "      <td>75-84</td>\n",
       "      <td>829653</td>\n",
       "      <td>5119.4</td>\n",
       "      <td>824903</td>\n",
       "      <td>4708.2</td>\n",
       "    </tr>\n",
       "    <tr>\n",
       "      <th>9</th>\n",
       "      <td>85_and_older</td>\n",
       "      <td>940780</td>\n",
       "      <td>15743.3</td>\n",
       "      <td>933291</td>\n",
       "      <td>14389.6</td>\n",
       "    </tr>\n",
       "  </tbody>\n",
       "</table>\n",
       "</div>"
      ],
      "text/plain": [
       "  Age_Group_Years  2021_Number  2021_Rate_per_100000  2022_Number  \\\n",
       "0             1-4         3816                  25.0         4156   \n",
       "1            5-14         5975                  14.3         6239   \n",
       "2           15-24        38307                  88.9        35232   \n",
       "3           25-34        82274                 180.8        74369   \n",
       "4           35-44       124939                 287.9       111605   \n",
       "5           45-54       216037                 531.0       183284   \n",
       "6           55-64       478171                1117.1       417541   \n",
       "7           65-74       724266                2151.3       668581   \n",
       "8           75-84       829653                5119.4       824903   \n",
       "9    85_and_older       940780               15743.3       933291   \n",
       "\n",
       "   2022_Rate_per_100000  \n",
       "0                  28.0  \n",
       "1                  15.3  \n",
       "2                  79.5  \n",
       "3                 163.4  \n",
       "4                 255.4  \n",
       "5                 453.3  \n",
       "6                 992.1  \n",
       "7                1978.7  \n",
       "8                4708.2  \n",
       "9               14389.6  "
      ]
     },
     "execution_count": 6,
     "metadata": {},
     "output_type": "execute_result"
    }
   ],
   "source": [
    "# death rate data from CDC National Center for Health Statistics (https://www.cdc.gov/nchs/products/databriefs/db492.htm)\n",
    "dr_ = pd.read_csv('data/Mortality Data 2021-2022.csv')\n",
    "dr_"
   ]
  },
  {
   "cell_type": "markdown",
   "id": "d2b30a3b-b4ec-4b51-8dd5-423f88690042",
   "metadata": {},
   "source": [
    "## Analysis"
   ]
  },
  {
   "cell_type": "markdown",
   "id": "898c4347-8f28-47fb-acc5-08f507662e13",
   "metadata": {},
   "source": [
    "### functions for additional mortality calculations"
   ]
  },
  {
   "cell_type": "code",
   "execution_count": 7,
   "id": "5039f980-bda6-434d-b7a2-38800795e36d",
   "metadata": {},
   "outputs": [],
   "source": [
    "def scaling_factor(pcai,puai,hr,vec=False):\n",
    "  if vec:\n",
    "    scaling_factor = (puai.T + (1-puai).T.mul(hr))/(pcai.T + (1-pcai).T.mul(hr))\n",
    "  else:\n",
    "    scaling_factor = (puai+hr*(1-puai))/(pcai+hr*(1-pcai))\n",
    "  return scaling_factor\n",
    "\n",
    "# functions (Is this working for all scenarios)\n",
    "def excess_deaths(Pa,dr,pcai,puai,hr,vec=False):\n",
    "    Da = dr*Pa\n",
    "    if vec:\n",
    "      Du = (scaling_factor(pcai,puai,hr,vec).T*Da)\n",
    "    else:\n",
    "      Du = scaling_factor(pcai,puai,hr,vec)*Da\n",
    "    return Da, Du, Du-Da\n"
   ]
  },
  {
   "cell_type": "markdown",
   "id": "a2dc723f-b6e4-409d-9467-45550aeb1a06",
   "metadata": {},
   "source": [
    "### function to create distribution for insurance rates."
   ]
  },
  {
   "cell_type": "code",
   "execution_count": 8,
   "id": "e83ca233-c272-4ea8-8e27-4a977d8990b7",
   "metadata": {},
   "outputs": [],
   "source": [
    "def normal(value,ci,alp=0.975):\n",
    "  mean = np.log(value)\n",
    "  # Parameters of the normal distribution\n",
    "  lower_ci = np.log(ci[0])\n",
    "  upper_ci = np.log(ci[1])\n",
    "  # Calculate the standard deviation using the confidence interval\n",
    "  std = (upper_ci - lower_ci) / 2 / stats.norm.ppf(alp)\n",
    "  retval = stats.norm(loc=mean, scale=std)\n",
    "  retval.mode = np.exp(mean)\n",
    "  prng = RandomState(5)\n",
    "  x= np.exp(prng.normal(mean, std, 1000))\n",
    "  #if restrictbelow1:\n",
    "  #  x[x>1] = 1\n",
    "  retval.sample = x\n",
    "\n",
    "  return retval\n",
    "\n",
    "# ACS survey gives us 90% CI\n",
    "def get_ins(p,i,pm,im):\n",
    "  retval = {}\n",
    "  pD = normal(p,[p-pm,p+pm],0.95)\n",
    "  pI = normal(i,[i-im,i+im],0.95)\n",
    "  retval['mode'] = pI.mode/pD.mode\n",
    "  retval['sample'] = pI.sample/pD.sample\n",
    "\n",
    "  return retval"
   ]
  },
  {
   "cell_type": "markdown",
   "id": "bced6da5-c4a3-4ebc-98e5-744b5ef79fc0",
   "metadata": {},
   "source": [
    "### hazard ratio"
   ]
  },
  {
   "cell_type": "code",
   "execution_count": 9,
   "id": "a4f3749e-e777-48da-a670-4f4a30cdcce6",
   "metadata": {},
   "outputs": [
    {
     "data": {
      "text/plain": [
       "np.float64(2.327258973573018)"
      ]
     },
     "execution_count": 9,
     "metadata": {},
     "output_type": "execute_result"
    }
   ],
   "source": [
    "haz_rat = normal(1.4,[1.06,1.84],0.975)\n",
    "haz_rat.sample.max()"
   ]
  },
  {
   "cell_type": "markdown",
   "id": "7863fe73-7a2f-427d-a298-a541569fc00d",
   "metadata": {},
   "source": [
    "### impacted population"
   ]
  },
  {
   "cell_type": "code",
   "execution_count": 10,
   "id": "b4f06eac-2460-4d9a-abc3-7cbca5091bc7",
   "metadata": {},
   "outputs": [
    {
     "data": {
      "text/plain": [
       "np.int64(201448370)"
      ]
     },
     "execution_count": 10,
     "metadata": {},
     "output_type": "execute_result"
    }
   ],
   "source": [
    "\n",
    "popX = pop_[(pop_['SEX']==0)&(pop_['ORIGIN']==0)& (pop_['RACE']==0)]\n",
    "P = popX.iloc[9,23:69].sum() # 19--64 population in 2025.\n",
    "P"
   ]
  },
  {
   "cell_type": "markdown",
   "id": "0f7a1d11-b749-400d-a2b5-bcd9f6c41238",
   "metadata": {},
   "source": [
    "### current insurance rate among impacted population"
   ]
  },
  {
   "cell_type": "code",
   "execution_count": 11,
   "id": "2528f0ba-5bbf-41ad-9c8b-4222d109ef8a",
   "metadata": {},
   "outputs": [
    {
     "data": {
      "text/html": [
       "<div>\n",
       "<style scoped>\n",
       "    .dataframe tbody tr th:only-of-type {\n",
       "        vertical-align: middle;\n",
       "    }\n",
       "\n",
       "    .dataframe tbody tr th {\n",
       "        vertical-align: top;\n",
       "    }\n",
       "\n",
       "    .dataframe thead tr th {\n",
       "        text-align: left;\n",
       "    }\n",
       "</style>\n",
       "<table border=\"1\" class=\"dataframe\">\n",
       "  <thead>\n",
       "    <tr>\n",
       "      <th></th>\n",
       "      <th colspan=\"4\" halign=\"left\">United States</th>\n",
       "    </tr>\n",
       "    <tr>\n",
       "      <th></th>\n",
       "      <th colspan=\"2\" halign=\"left\">Total</th>\n",
       "      <th colspan=\"2\" halign=\"left\">Insured</th>\n",
       "    </tr>\n",
       "    <tr>\n",
       "      <th>Label</th>\n",
       "      <th>Estimate</th>\n",
       "      <th>Margin of Error</th>\n",
       "      <th>Estimate</th>\n",
       "      <th>Margin of Error</th>\n",
       "    </tr>\n",
       "  </thead>\n",
       "  <tbody>\n",
       "    <tr>\n",
       "      <th>19 to 25 years</th>\n",
       "      <td>29463133</td>\n",
       "      <td>25847</td>\n",
       "      <td>25345552</td>\n",
       "      <td>29354</td>\n",
       "    </tr>\n",
       "    <tr>\n",
       "      <th>26 to 34 years</th>\n",
       "      <td>40085780</td>\n",
       "      <td>23247</td>\n",
       "      <td>34120692</td>\n",
       "      <td>65346</td>\n",
       "    </tr>\n",
       "    <tr>\n",
       "      <th>35 to 44 years</th>\n",
       "      <td>42636339</td>\n",
       "      <td>10421</td>\n",
       "      <td>37175315</td>\n",
       "      <td>63842</td>\n",
       "    </tr>\n",
       "    <tr>\n",
       "      <th>45 to 54 years</th>\n",
       "      <td>40377526</td>\n",
       "      <td>8438</td>\n",
       "      <td>35998280</td>\n",
       "      <td>49618</td>\n",
       "    </tr>\n",
       "    <tr>\n",
       "      <th>55 to 64 years</th>\n",
       "      <td>42235253</td>\n",
       "      <td>4380</td>\n",
       "      <td>38819475</td>\n",
       "      <td>34733</td>\n",
       "    </tr>\n",
       "  </tbody>\n",
       "</table>\n",
       "</div>"
      ],
      "text/plain": [
       "               United States                                          \n",
       "                       Total                   Insured                \n",
       "Label               Estimate Margin of Error  Estimate Margin of Error\n",
       "19 to 25 years      29463133           25847  25345552           29354\n",
       "26 to 34 years      40085780           23247  34120692           65346\n",
       "35 to 44 years      42636339           10421  37175315           63842\n",
       "45 to 54 years      40377526            8438  35998280           49618\n",
       "55 to 64 years      42235253            4380  38819475           34733"
      ]
     },
     "execution_count": 11,
     "metadata": {},
     "output_type": "execute_result"
    }
   ],
   "source": [
    "#of interest:\n",
    "ins_.index\n",
    "\n",
    "#age-groups of interest:\n",
    "ages = ['19 to 25 years', '26 to 34 years', '35 to 44 years','45 to 54 years', '55 to 64 years'] \n",
    "ins_.loc[ages,[('United States', 'Total', 'Estimate'), ('United States', 'Insured', 'Estimate')]]\n",
    "\n",
    "#Insurance rates by age\n",
    "#Have to convert columns to numeric by removing commas first.¶\n",
    "ins_.loc[ages] = ins_.loc[ages].replace({',': '', '±': ''}, regex=True)\n",
    "ins_.loc[ages] = ins_.loc[ages].apply(pd.to_numeric, errors='coerce')\n",
    "\n",
    "\n",
    "\n",
    "\n",
    "ins_.loc[ages]"
   ]
  },
  {
   "cell_type": "code",
   "execution_count": 12,
   "id": "f8e5c90d-64b3-42d0-a7fc-294f6f84086a",
   "metadata": {},
   "outputs": [
    {
     "data": {
      "text/plain": [
       "np.float64(0.8801901801563885)"
      ]
     },
     "execution_count": 12,
     "metadata": {},
     "output_type": "execute_result"
    }
   ],
   "source": [
    "ins = ins_.loc[ages].sum()\n",
    "insured = ins[('United States','Insured','Estimate')]\n",
    "total = ins[('United States','Total','Estimate')]\n",
    "insured_margin = ins[('United States','Insured','Margin of Error')]\n",
    "total_margin = ins[('United States','Total','Margin of Error')]\n",
    "pci = get_ins(total,insured, total_margin, insured_margin)\n",
    "pci['mode']"
   ]
  },
  {
   "cell_type": "markdown",
   "id": "ea849e7c-5110-4f02-8897-8b1d1e4d5add",
   "metadata": {},
   "source": [
    "### updated insurance rates"
   ]
  },
  {
   "cell_type": "code",
   "execution_count": 13,
   "id": "64e1cd69-072c-41af-aa26-14d4d585a8f7",
   "metadata": {},
   "outputs": [],
   "source": [
    "## Number of people in population impacted who may lose insurance: \n",
    "HR = 36188000\n",
    "LR = 20272000\n",
    "\n",
    "HRL = 0.1*HR # Based on last CBO result- 15 million --1.5 million --600,000 uninsured.\n",
    "LRL = 0.1*LR"
   ]
  },
  {
   "cell_type": "code",
   "execution_count": 14,
   "id": "b62b4060-fe5b-4869-ac4e-bb64104ec46e",
   "metadata": {},
   "outputs": [],
   "source": [
    "value = HRL\n",
    "# so updated insurance rate in this group is\n",
    "pui = {}\n",
    "pui['mode'] = pci['mode']- value/P\n",
    "pui['sample'] = pci['sample'] - value/P"
   ]
  },
  {
   "cell_type": "markdown",
   "id": "62913968-9802-4f84-8bae-c82776340480",
   "metadata": {},
   "source": [
    "### current death rates"
   ]
  },
  {
   "cell_type": "code",
   "execution_count": 16,
   "id": "22fdf4e9-07f5-4ef2-b0a8-2d26b666f0f1",
   "metadata": {},
   "outputs": [
    {
     "data": {
      "text/plain": [
       "np.float64(0.003804846211010321)"
      ]
     },
     "execution_count": 16,
     "metadata": {},
     "output_type": "execute_result"
    }
   ],
   "source": [
    "# Death rates\n",
    "dr_ip = dr_.iloc[2:7,-2:] # this can be done better\n",
    "deaths = dr_ip['2022_Number'].sum()\n",
    "pops = 100000*(dr_ip['2022_Number']/dr_ip['2022_Rate_per_100000']).sum()\n",
    "dr = deaths/pops\n",
    "dr"
   ]
  },
  {
   "cell_type": "markdown",
   "id": "b163d3b1-63a1-4c9f-8237-cb67e29b7130",
   "metadata": {},
   "source": [
    "### excess deaths calculations"
   ]
  },
  {
   "cell_type": "code",
   "execution_count": 17,
   "id": "7ad0b28b-8ab4-46ae-870b-9b8be067a011",
   "metadata": {},
   "outputs": [
    {
     "data": {
      "text/plain": [
       "np.float64(5255.716412738082)"
      ]
     },
     "execution_count": 17,
     "metadata": {},
     "output_type": "execute_result"
    }
   ],
   "source": [
    "Da, Du, Dx = excess_deaths(P,dr,pci['mode'],pui['mode'],haz_rat.mode)\n",
    "Dx"
   ]
  },
  {
   "cell_type": "code",
   "execution_count": 18,
   "id": "4555f699-3ba2-4d9d-bac5-a54eeaa20e9c",
   "metadata": {},
   "outputs": [
    {
     "data": {
      "text/plain": [
       "array([ 1088.00812674,  5314.40405474, 10951.2959909 ])"
      ]
     },
     "execution_count": 18,
     "metadata": {},
     "output_type": "execute_result"
    }
   ],
   "source": [
    "Da, Du, Dx = excess_deaths(P,dr,pci['sample'],pui['sample'],haz_rat.sample)\n",
    "np.quantile(Dx,[0.025,0.5,0.975])"
   ]
  },
  {
   "cell_type": "code",
   "execution_count": 19,
   "id": "1c8f46af-b2ac-4d1d-b1e7-3492244a86ff",
   "metadata": {},
   "outputs": [],
   "source": [
    "# All scenarios \n",
    "atrisk = [20272000, 36188000]    # Shape: (1,2)\n",
    "mortprop = [0.1*0.4, 0.1, 0.89*0.25, 0.25]  # Shape: (4,1)\n",
    "\n",
    "scenarios = [a * m for a in atrisk for m in mortprop] \n",
    "# this gives me expansion-cbol,cbou,arkl,arku & total-cbol,cbou,arkl,arku"
   ]
  },
  {
   "cell_type": "code",
   "execution_count": 20,
   "id": "197c4c20-8fd3-481c-81e0-811f72b33662",
   "metadata": {},
   "outputs": [],
   "source": [
    "# create data frame for this\n",
    "iterables = [[\"expansion\",\"total\"], [\"cbo-l\", \"cbo-u\",\"ark-l\",\"ark-u\"]]\n",
    "index = pd.MultiIndex.from_product(iterables, names=[\"first\", \"second\"])\n",
    "columns = [\"95% UI Lower\",\"Median\", \"95% UI Upper\"]\n",
    "results = pd.DataFrame(index=index,columns=columns)"
   ]
  },
  {
   "cell_type": "code",
   "execution_count": 21,
   "id": "37e34f81-25c2-4a3c-9c45-fd9fd84d765f",
   "metadata": {},
   "outputs": [],
   "source": [
    "# Now start calculating it. \n",
    "for i in range(8):\n",
    "    value = scenarios[i]\n",
    "    pui = {}\n",
    "    pui['mode'] = pci['mode']- value/P\n",
    "    pui['sample'] = pci['sample'] - value/P\n",
    "    Da, Du, Dx = excess_deaths(P,dr,pci['sample'],pui['sample'],haz_rat.sample)\n",
    "    results.iloc[i] = np.round(np.quantile(Dx,[0.025,0.5,0.975])).astype(int) \n",
    "    #np.quantile(Dx,[0.025,0.5,0.975])\n",
    "    \n",
    "    "
   ]
  },
  {
   "cell_type": "code",
   "execution_count": 22,
   "id": "715f163f-002a-4507-a070-f573918dface",
   "metadata": {},
   "outputs": [],
   "source": [
    "results['Losing insurance'] = list(map(int, scenarios))"
   ]
  },
  {
   "cell_type": "code",
   "execution_count": 23,
   "id": "1be817bc-a5d3-4377-9498-f397e335b644",
   "metadata": {},
   "outputs": [],
   "source": [
    "results = results[['Losing insurance',\"Median\", \"95% UI Lower\", \"95% UI Upper\"]]\n"
   ]
  },
  {
   "cell_type": "code",
   "execution_count": 24,
   "id": "81d2c05c-e6c8-49be-aeeb-32e24c1574f4",
   "metadata": {},
   "outputs": [
    {
     "data": {
      "text/html": [
       "<div>\n",
       "<style scoped>\n",
       "    .dataframe tbody tr th:only-of-type {\n",
       "        vertical-align: middle;\n",
       "    }\n",
       "\n",
       "    .dataframe tbody tr th {\n",
       "        vertical-align: top;\n",
       "    }\n",
       "\n",
       "    .dataframe thead th {\n",
       "        text-align: right;\n",
       "    }\n",
       "</style>\n",
       "<table border=\"1\" class=\"dataframe\">\n",
       "  <thead>\n",
       "    <tr style=\"text-align: right;\">\n",
       "      <th></th>\n",
       "      <th></th>\n",
       "      <th>Losing insurance</th>\n",
       "      <th>Median</th>\n",
       "      <th>95% UI Lower</th>\n",
       "      <th>95% UI Upper</th>\n",
       "    </tr>\n",
       "    <tr>\n",
       "      <th>first</th>\n",
       "      <th>second</th>\n",
       "      <th></th>\n",
       "      <th></th>\n",
       "      <th></th>\n",
       "      <th></th>\n",
       "    </tr>\n",
       "  </thead>\n",
       "  <tbody>\n",
       "    <tr>\n",
       "      <th rowspan=\"4\" valign=\"top\">expansion</th>\n",
       "      <th>cbo-l</th>\n",
       "      <td>810880</td>\n",
       "      <td>1191</td>\n",
       "      <td>244</td>\n",
       "      <td>2454</td>\n",
       "    </tr>\n",
       "    <tr>\n",
       "      <th>cbo-u</th>\n",
       "      <td>2027200</td>\n",
       "      <td>2977</td>\n",
       "      <td>609</td>\n",
       "      <td>6135</td>\n",
       "    </tr>\n",
       "    <tr>\n",
       "      <th>ark-l</th>\n",
       "      <td>4510520</td>\n",
       "      <td>6624</td>\n",
       "      <td>1356</td>\n",
       "      <td>13650</td>\n",
       "    </tr>\n",
       "    <tr>\n",
       "      <th>ark-u</th>\n",
       "      <td>5068000</td>\n",
       "      <td>7443</td>\n",
       "      <td>1524</td>\n",
       "      <td>15337</td>\n",
       "    </tr>\n",
       "    <tr>\n",
       "      <th rowspan=\"4\" valign=\"top\">total</th>\n",
       "      <th>cbo-l</th>\n",
       "      <td>1447520</td>\n",
       "      <td>2126</td>\n",
       "      <td>435</td>\n",
       "      <td>4381</td>\n",
       "    </tr>\n",
       "    <tr>\n",
       "      <th>cbo-u</th>\n",
       "      <td>3618800</td>\n",
       "      <td>5314</td>\n",
       "      <td>1088</td>\n",
       "      <td>10951</td>\n",
       "    </tr>\n",
       "    <tr>\n",
       "      <th>ark-l</th>\n",
       "      <td>8051830</td>\n",
       "      <td>11825</td>\n",
       "      <td>2421</td>\n",
       "      <td>24367</td>\n",
       "    </tr>\n",
       "    <tr>\n",
       "      <th>ark-u</th>\n",
       "      <td>9047000</td>\n",
       "      <td>13286</td>\n",
       "      <td>2720</td>\n",
       "      <td>27378</td>\n",
       "    </tr>\n",
       "  </tbody>\n",
       "</table>\n",
       "</div>"
      ],
      "text/plain": [
       "                  Losing insurance Median 95% UI Lower 95% UI Upper\n",
       "first     second                                                   \n",
       "expansion cbo-l             810880   1191          244         2454\n",
       "          cbo-u            2027200   2977          609         6135\n",
       "          ark-l            4510520   6624         1356        13650\n",
       "          ark-u            5068000   7443         1524        15337\n",
       "total     cbo-l            1447520   2126          435         4381\n",
       "          cbo-u            3618800   5314         1088        10951\n",
       "          ark-l            8051830  11825         2421        24367\n",
       "          ark-u            9047000  13286         2720        27378"
      ]
     },
     "execution_count": 24,
     "metadata": {},
     "output_type": "execute_result"
    }
   ],
   "source": [
    "results"
   ]
  },
  {
   "cell_type": "markdown",
   "id": "dcfc731a-9e8d-432e-ae6b-f8cb2e0d5ea9",
   "metadata": {},
   "source": [
    "# State-level analysis"
   ]
  },
  {
   "cell_type": "code",
   "execution_count": 28,
   "id": "87dea8c1-5d23-4cff-82af-e17150992c1b",
   "metadata": {},
   "outputs": [],
   "source": [
    "# read the state-level file \n",
    "df = pd.read_excel('data/data-for-state-analysis.xlsx')\n",
    "df.set_index('State',inplace=True)"
   ]
  },
  {
   "cell_type": "code",
   "execution_count": 39,
   "id": "7b1d613c-30c3-4dbd-9cb0-f09dcda7b3c7",
   "metadata": {},
   "outputs": [
    {
     "data": {
      "text/plain": [
       "array([ 69.30455918, 336.02485417, 686.75168992])"
      ]
     },
     "execution_count": 39,
     "metadata": {},
     "output_type": "execute_result"
    }
   ],
   "source": [
    "# test\n",
    "sP, sp, si, spm, sim, sil, sdr = df.loc['Alabama']\n",
    "pci = get_ins(sp, si,spm, sim)\n",
    "value = sil\n",
    "# so updated insurance rate in this group is\n",
    "pui = {}\n",
    "pui['mode'] = pci['mode']- value/sP\n",
    "pui['sample'] = pci['sample'] - value/sP\n",
    "Da, Du, Dx = excess_deaths(sP,dr,pci['sample'],pui['sample'],haz_rat.sample)\n",
    "np.quantile(Dx,[0.025,0.5,0.975])"
   ]
  },
  {
   "cell_type": "code",
   "execution_count": 42,
   "id": "6c1e7d67-96b5-4a43-ab70-2461455d123d",
   "metadata": {},
   "outputs": [],
   "source": [
    "# do state-level analysis\n",
    "state_results = pd.DataFrame(index=df.index,columns=[\"95% UI Lower\",\"Median\", \"95% UI Upper\"])"
   ]
  },
  {
   "cell_type": "code",
   "execution_count": 46,
   "id": "06cb355c-fbf5-426c-a78c-1e6bac722829",
   "metadata": {},
   "outputs": [],
   "source": [
    "for state in state_results.index:\n",
    "    sP, sp, si, spm, sim, sil, sdr = df.loc[state]\n",
    "    pci = get_ins(sp, si,spm, sim)\n",
    "    value = sil\n",
    "    # so updated insurance rate in this group is\n",
    "    pui = {}\n",
    "    pui['mode'] = pci['mode']- value/sP\n",
    "    pui['sample'] = pci['sample'] - value/sP\n",
    "    Da, Du, Dx = excess_deaths(sP,dr,pci['sample'],pui['sample'],haz_rat.sample)\n",
    "    state_results.loc[state] = np.quantile(Dx,[0.025,0.5,0.975])"
   ]
  },
  {
   "cell_type": "code",
   "execution_count": 48,
   "id": "003c80b9-80ee-490d-b85d-6490f485d901",
   "metadata": {},
   "outputs": [],
   "source": [
    "state_results.to_excel('state_results.xlsx')"
   ]
  },
  {
   "cell_type": "code",
   "execution_count": 56,
   "id": "a2478db1-2e39-40d7-b1df-0cce1cee6ff4",
   "metadata": {},
   "outputs": [
    {
     "data": {
      "text/plain": [
       "53466.80441142746"
      ]
     },
     "execution_count": 56,
     "metadata": {},
     "output_type": "execute_result"
    }
   ],
   "source": [
    "state_results['Median'].sort_values().sum()"
   ]
  },
  {
   "cell_type": "code",
   "execution_count": null,
   "id": "cea9e3c7-58f9-42b4-a529-c99c7f4ade9b",
   "metadata": {},
   "outputs": [],
   "source": []
  }
 ],
 "metadata": {
  "kernelspec": {
   "display_name": "Python 3 (ipykernel)",
   "language": "python",
   "name": "python3"
  },
  "language_info": {
   "codemirror_mode": {
    "name": "ipython",
    "version": 3
   },
   "file_extension": ".py",
   "mimetype": "text/x-python",
   "name": "python",
   "nbconvert_exporter": "python",
   "pygments_lexer": "ipython3",
   "version": "3.9.6"
  }
 },
 "nbformat": 4,
 "nbformat_minor": 5
}
